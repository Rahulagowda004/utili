{
 "cells": [
  {
   "cell_type": "code",
   "execution_count": 1,
   "id": "224a9ff5",
   "metadata": {},
   "outputs": [],
   "source": [
    "import pandas as pd"
   ]
  },
  {
   "cell_type": "code",
   "execution_count": 5,
   "id": "43ca01a8",
   "metadata": {},
   "outputs": [],
   "source": [
    "#files\n",
    "template = pd.read_excel('template.xlsx', sheet_name=\"2025-Tasks\")\n",
    "df = pd.read_csv('input.csv')"
   ]
  },
  {
   "cell_type": "code",
   "execution_count": 11,
   "id": "5974a884",
   "metadata": {},
   "outputs": [
    {
     "name": "stdout",
     "output_type": "stream",
     "text": [
      "keys of the template file: Index(['Module / Category', 'Task Details', 'Assigned To', 'Start Date',\n",
      "       'Due Date', 'Planned (Hrs)', 'Actual (Hrs)', 'Status', 'End Date',\n",
      "       'Risk / Comments / Comp Off'],\n",
      "      dtype='object')\n",
      "keys of the input file: Index(['Issue Type', 'Issue key', 'Issue id', 'Summary', 'Assignee',\n",
      "       'Assignee Id', 'Reporter Id', 'Priority', 'Status', 'Resolution',\n",
      "       'Custom field (Start date)', 'Due date', 'Σ Original Estimate',\n",
      "       'Σ Time Spent'],\n",
      "      dtype='object')\n"
     ]
    }
   ],
   "source": [
    "df_keys = df.keys()\n",
    "template_keys = template.keys()\n",
    "\n",
    "print(f\"keys of the template file: {template_keys}\")\n",
    "print(f\"keys of the input file: {df_keys}\")"
   ]
  },
  {
   "cell_type": "code",
   "execution_count": 24,
   "id": "00db6a4a",
   "metadata": {},
   "outputs": [],
   "source": [
    "template['Task Details'] = df['Summary']\n",
    "template['Assigned To'] = df['Assignee']\n",
    "template['Start Date'] = pd.to_datetime(df['Custom field (Start date)'], dayfirst=True).dt.strftime('%d-%b-%y')\n",
    "template['Due Date'] = pd.to_datetime(df['Due date'], dayfirst=True).dt.strftime('%d-%b-%y')\n",
    "template['Planned (Hrs)'] = df['Σ Original Estimate'] / 3600\n",
    "template['Actual (Hrs)'] = df['Σ Time Spent'] / 3600\n",
    "template['Status'] = df['Status'].replace('Done', 'Completed')"
   ]
  },
  {
   "cell_type": "code",
   "execution_count": null,
   "id": "482c57e2",
   "metadata": {},
   "outputs": [
    {
     "name": "stdout",
     "output_type": "stream",
     "text": [
      "CSV loaded: (253, 14)\n",
      "Writing data starting from row: 2\n",
      "Writing to row 2: Monthly Team Meeting\n",
      "Writing to row 3: Email Engagements to Hot deals\n",
      "Writing to row 4: BFS Strategy meeting\n",
      "Data saved to template_with_data.xlsx starting from row 2\n"
     ]
    }
   ],
   "source": [
    "import pandas as pd\n",
    "from openpyxl import load_workbook\n",
    "\n",
    "try:\n",
    "    # Read CSV\n",
    "    df = pd.read_csv('input.csv')\n",
    "    print(f\"CSV loaded: {df.shape}\")\n",
    "    \n",
    "    # Load workbook\n",
    "    workbook = load_workbook('template.xlsx')\n",
    "    worksheet = workbook['2025-Tasks']\n",
    "    \n",
    "    # Start from row 2 (assuming row 1 has headers)\n",
    "    start_row = 2\n",
    "    \n",
    "    print(f\"Writing data starting from row: {start_row}\")\n",
    "    \n",
    "    # Process data\n",
    "    for i, row in df.iterrows():\n",
    "        current_row = start_row + i\n",
    "        \n",
    "        if i < 3:\n",
    "            print(f\"Writing to row {current_row}: {row['Summary']}\")\n",
    "        \n",
    "        worksheet.cell(row=current_row, column=2, value=str(row['Summary']))  # Changed from column=1 to column=2\n",
    "        worksheet.cell(row=current_row, column=3, value=str(row['Assignee']))  # Changed from column=2 to column=3\n",
    "        \n",
    "        # Format dates\n",
    "        try:\n",
    "            start_date = pd.to_datetime(row['Custom field (Start date)'], dayfirst=True).strftime('%d-%b-%y')\n",
    "            due_date = pd.to_datetime(row['Due date'], dayfirst=True).strftime('%d-%b-%y')\n",
    "        except:\n",
    "            start_date = str(row['Custom field (Start date)'])\n",
    "            due_date = str(row['Due date'])\n",
    "        \n",
    "        worksheet.cell(row=current_row, column=4, value=start_date)  # Changed from column=3 to column=4\n",
    "        worksheet.cell(row=current_row, column=5, value=due_date)    # Changed from column=4 to column=5\n",
    "        worksheet.cell(row=current_row, column=6, value=float(row['Σ Original Estimate']) / 3600 if pd.notna(row['Σ Original Estimate']) else 0)  # Changed from column=5 to column=6\n",
    "        worksheet.cell(row=current_row, column=7, value=float(row['Σ Time Spent']) / 3600 if pd.notna(row['Σ Time Spent']) else 0)  # Changed from column=6 to column=7\n",
    "        \n",
    "        status = 'Completed' if row['Status'] == 'Done' else str(row['Status'])\n",
    "        worksheet.cell(row=current_row, column=8, value=status)  # Changed from column=7 to column=8\n",
    "    \n",
    "    # Save file\n",
    "    workbook.save('template.xlsx')\n",
    "    print(f\"Data saved to template_with_data.xlsx starting from row {start_row}\")\n",
    "    workbook.close()\n",
    "    \n",
    "except Exception as e:\n",
    "    print(f\"Error: {e}\")\n",
    "    import traceback\n",
    "    traceback.print_exc()"
   ]
  },
  {
   "cell_type": "code",
   "execution_count": null,
   "id": "f386e745",
   "metadata": {},
   "outputs": [],
   "source": []
  }
 ],
 "metadata": {
  "kernelspec": {
   "display_name": "utili",
   "language": "python",
   "name": "python3"
  },
  "language_info": {
   "codemirror_mode": {
    "name": "ipython",
    "version": 3
   },
   "file_extension": ".py",
   "mimetype": "text/x-python",
   "name": "python",
   "nbconvert_exporter": "python",
   "pygments_lexer": "ipython3",
   "version": "3.12.11"
  }
 },
 "nbformat": 4,
 "nbformat_minor": 5
}
