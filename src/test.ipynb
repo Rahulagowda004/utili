{
 "cells": [
  {
   "cell_type": "code",
   "execution_count": 1,
   "id": "268f240d",
   "metadata": {},
   "outputs": [],
   "source": [
    "import pandas as pd\n",
    "from utils import pipeline"
   ]
  },
  {
   "cell_type": "code",
   "execution_count": 2,
   "id": "825bec55",
   "metadata": {},
   "outputs": [],
   "source": [
    "testing = pd.read_csv(\"artifacts\\\\testing.csv\")\n",
    "df = pipeline(testing)"
   ]
  }
 ],
 "metadata": {
  "kernelspec": {
   "display_name": "utili",
   "language": "python",
   "name": "python3"
  },
  "language_info": {
   "codemirror_mode": {
    "name": "ipython",
    "version": 3
   },
   "file_extension": ".py",
   "mimetype": "text/x-python",
   "name": "python",
   "nbconvert_exporter": "python",
   "pygments_lexer": "ipython3",
   "version": "3.12.11"
  }
 },
 "nbformat": 4,
 "nbformat_minor": 5
}
